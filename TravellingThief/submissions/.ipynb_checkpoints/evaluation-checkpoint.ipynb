{
 "cells": [
  {
   "cell_type": "code",
   "execution_count": null,
   "metadata": {},
   "outputs": [],
   "source": [
    "\n",
    "participants = [\"ALLAOUI\", \"CIRG_UP_KUNLE\", \"OMEGA\", \"jomar\", \"rrg\", \"shisunzhang\"]\n",
    "\n",
    "problems = [\"a280_n279\", \"a280_n1395\", \"a280_n2790\",\n",
    "            \"fnl4461_n4460\", \"fnl4461_n22300\", \"fnl4461_n44600\", \n",
    "            \"pla33810_n33809\", \"pla33810_n169045\", \"pla33810_n338090\"\n",
    "]\n",
    "\n",
    "\n"
   ]
  }
 ],
 "metadata": {
  "kernelspec": {
   "display_name": "Python 3",
   "language": "python",
   "name": "python3"
  },
  "language_info": {
   "codemirror_mode": {
    "name": "ipython",
    "version": 3
   },
   "file_extension": ".py",
   "mimetype": "text/x-python",
   "name": "python",
   "nbconvert_exporter": "python",
   "pygments_lexer": "ipython3",
   "version": "3.6.5"
  }
 },
 "nbformat": 4,
 "nbformat_minor": 2
}
